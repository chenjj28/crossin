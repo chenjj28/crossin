{
  "nbformat": 4,
  "nbformat_minor": 0,
  "metadata": {
    "colab": {
      "name": "70.杨辉三角.ipynb",
      "provenance": [],
      "authorship_tag": "ABX9TyN1rg8sbQsyhXDalTYYcAQc",
      "include_colab_link": true
    },
    "kernelspec": {
      "name": "python3",
      "display_name": "Python 3"
    }
  },
  "cells": [
    {
      "cell_type": "markdown",
      "metadata": {
        "id": "view-in-github",
        "colab_type": "text"
      },
      "source": [
        "<a href=\"https://colab.research.google.com/github/chenjj28/crossin/blob/master/70_%E6%9D%A8%E8%BE%89%E4%B8%89%E8%A7%92.ipynb\" target=\"_parent\"><img src=\"https://colab.research.google.com/assets/colab-badge.svg\" alt=\"Open In Colab\"/></a>"
      ]
    },
    {
      "cell_type": "markdown",
      "metadata": {
        "id": "yxpkEgZEpcXE",
        "colab_type": "text"
      },
      "source": [
        "### 70.杨辉三角\n",
        "打印出杨辉三角形（要求打印出10行如下图）。<br>\n",
        "1 <br>\n",
        "1 1 <br>\n",
        "1 2 1 <br>\n",
        "1 3 3 1 <br>\n",
        "1 4 6 4 1 <br>\n",
        "1 5 10 10 5 1 <br>\n",
        "1 6 15 20 15 6 1 <br>\n",
        "1 7 21 35 35 21 7 1 <br>\n",
        "1 8 28 56 70 56 28 8 1 <br>\n",
        "1 9 36 84 126 126 84 36 9 1"
      ]
    },
    {
      "cell_type": "code",
      "metadata": {
        "id": "_p99XllOT_4P",
        "colab_type": "code",
        "outputId": "aa047e22-01eb-446c-ac96-9a927a8d5b87",
        "colab": {
          "base_uri": "https://localhost:8080/",
          "height": 187
        }
      },
      "source": [
        "def triangle1():\n",
        "    q = [1]\n",
        "    while True:\n",
        "        yield q\n",
        "        i = 0\n",
        "        while i < len(q):\n",
        "            if i>0:\n",
        "                q[i] = p[i-1] + p[i]\n",
        "            i+=1\n",
        "        q.append(1)\n",
        "        p = q[:]\n",
        "\n",
        "n=0\n",
        "for t in triangle1():\n",
        "    print(t)\n",
        "    n=n+1\n",
        "    if n == 10:\n",
        "        break"
      ],
      "execution_count": 0,
      "outputs": [
        {
          "output_type": "stream",
          "text": [
            "[1]\n",
            "[1, 1]\n",
            "[1, 2, 1]\n",
            "[1, 3, 3, 1]\n",
            "[1, 4, 6, 4, 1]\n",
            "[1, 5, 10, 10, 5, 1]\n",
            "[1, 6, 15, 20, 15, 6, 1]\n",
            "[1, 7, 21, 35, 35, 21, 7, 1]\n",
            "[1, 8, 28, 56, 70, 56, 28, 8, 1]\n",
            "[1, 9, 36, 84, 126, 126, 84, 36, 9, 1]\n"
          ],
          "name": "stdout"
        }
      ]
    },
    {
      "cell_type": "code",
      "metadata": {
        "id": "CcVpRIbHpZWr",
        "colab_type": "code",
        "outputId": "a89cb9fc-34d5-42fb-bada-1377daa794a4",
        "colab": {
          "base_uri": "https://localhost:8080/",
          "height": 187
        }
      },
      "source": [
        "def triangle2():\n",
        "    q = [1]\n",
        "    while True:\n",
        "        yield q\n",
        "        q = [1 if i==0 or i==len(q) else (q[i-1]+q[i]) for i in range(len(q)+1)]\n",
        "                                                                               \n",
        "n=0\n",
        "for t in triangle2():\n",
        "    print(t)\n",
        "    n=n+1\n",
        "    if n == 10:\n",
        "        break                                                                            "
      ],
      "execution_count": 0,
      "outputs": [
        {
          "output_type": "stream",
          "text": [
            "[1]\n",
            "[1, 1]\n",
            "[1, 2, 1]\n",
            "[1, 3, 3, 1]\n",
            "[1, 4, 6, 4, 1]\n",
            "[1, 5, 10, 10, 5, 1]\n",
            "[1, 6, 15, 20, 15, 6, 1]\n",
            "[1, 7, 21, 35, 35, 21, 7, 1]\n",
            "[1, 8, 28, 56, 70, 56, 28, 8, 1]\n",
            "[1, 9, 36, 84, 126, 126, 84, 36, 9, 1]\n"
          ],
          "name": "stdout"
        }
      ]
    },
    {
      "cell_type": "code",
      "metadata": {
        "id": "INxCIiDSt0Vw",
        "colab_type": "code",
        "outputId": "cf9f2e67-1c6a-4e6b-e74f-4e0dbc9da5b5",
        "colab": {
          "base_uri": "https://localhost:8080/",
          "height": 187
        }
      },
      "source": [
        "def triangle3():\n",
        "    q = [1]\n",
        "    while True:\n",
        "        yield q\n",
        "        q.insert(0,0)\n",
        "        q = [q[i]+q[i+1] for i in range(len(q)-1)]\n",
        "        q.append(1)\n",
        "\n",
        "n=0\n",
        "for t in triangle3():\n",
        "    print(t)\n",
        "    n=n+1\n",
        "    if n == 10:\n",
        "        break"
      ],
      "execution_count": 0,
      "outputs": [
        {
          "output_type": "stream",
          "text": [
            "[1]\n",
            "[1, 1]\n",
            "[1, 2, 1]\n",
            "[1, 3, 3, 1]\n",
            "[1, 4, 6, 4, 1]\n",
            "[1, 5, 10, 10, 5, 1]\n",
            "[1, 6, 15, 20, 15, 6, 1]\n",
            "[1, 7, 21, 35, 35, 21, 7, 1]\n",
            "[1, 8, 28, 56, 70, 56, 28, 8, 1]\n",
            "[1, 9, 36, 84, 126, 126, 84, 36, 9, 1]\n"
          ],
          "name": "stdout"
        }
      ]
    },
    {
      "cell_type": "code",
      "metadata": {
        "id": "PmHAkWUCzuPu",
        "colab_type": "code",
        "outputId": "39b6034b-39e7-4418-d11d-695e23bc708a",
        "colab": {
          "base_uri": "https://localhost:8080/",
          "height": 187
        }
      },
      "source": [
        "def triangle4():\n",
        "    q = [1]\n",
        "    while True:\n",
        "        yield q\n",
        "        q.append(0)\n",
        "        q = [q[i-1]+q[i] for i in range(len(q))]\n",
        "\n",
        "n=0\n",
        "for t in triangle4():\n",
        "    print(t)\n",
        "    n=n+1\n",
        "    if n == 10:\n",
        "        break"
      ],
      "execution_count": 0,
      "outputs": [
        {
          "output_type": "stream",
          "text": [
            "[1]\n",
            "[1, 1]\n",
            "[1, 2, 1]\n",
            "[1, 3, 3, 1]\n",
            "[1, 4, 6, 4, 1]\n",
            "[1, 5, 10, 10, 5, 1]\n",
            "[1, 6, 15, 20, 15, 6, 1]\n",
            "[1, 7, 21, 35, 35, 21, 7, 1]\n",
            "[1, 8, 28, 56, 70, 56, 28, 8, 1]\n",
            "[1, 9, 36, 84, 126, 126, 84, 36, 9, 1]\n"
          ],
          "name": "stdout"
        }
      ]
    }
  ]
}