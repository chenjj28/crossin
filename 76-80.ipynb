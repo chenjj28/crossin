{
  "nbformat": 4,
  "nbformat_minor": 0,
  "metadata": {
    "colab": {
      "name": "76-80.ipynb",
      "provenance": [],
      "collapsed_sections": [],
      "authorship_tag": "ABX9TyP6vsOw4MqlrYlA/PEKC7HB",
      "include_colab_link": true
    },
    "kernelspec": {
      "name": "python3",
      "display_name": "Python 3"
    }
  },
  "cells": [
    {
      "cell_type": "markdown",
      "metadata": {
        "id": "view-in-github",
        "colab_type": "text"
      },
      "source": [
        "<a href=\"https://colab.research.google.com/github/chenjj28/crossin/blob/master/76-80.ipynb\" target=\"_parent\"><img src=\"https://colab.research.google.com/assets/colab-badge.svg\" alt=\"Open In Colab\"/></a>"
      ]
    },
    {
      "cell_type": "markdown",
      "metadata": {
        "id": "cxGyKjkckaqn",
        "colab_type": "text"
      },
      "source": [
        "### 76.输出阿姆斯特朗数\n",
        "输出 1 到 10000 之间的阿姆斯特朗数。"
      ]
    },
    {
      "cell_type": "code",
      "metadata": {
        "id": "Wu5-hrOXiC_u",
        "colab_type": "code",
        "outputId": "be73bf98-4140-40b8-d65d-63d05e6a6146",
        "colab": {
          "base_uri": "https://localhost:8080/",
          "height": 289
        }
      },
      "source": [
        "for num in range(1,10000):\n",
        "    n = str(num)\n",
        "    s = 0\n",
        "    for i in range(len(n)):\n",
        "        s += int(n[i])**len(n)\n",
        "    if s == num:\n",
        "        print(num)"
      ],
      "execution_count": 0,
      "outputs": [
        {
          "output_type": "stream",
          "text": [
            "1\n",
            "2\n",
            "3\n",
            "4\n",
            "5\n",
            "6\n",
            "7\n",
            "8\n",
            "9\n",
            "153\n",
            "370\n",
            "371\n",
            "407\n",
            "1634\n",
            "8208\n",
            "9474\n"
          ],
          "name": "stdout"
        }
      ]
    },
    {
      "cell_type": "markdown",
      "metadata": {
        "id": "4mGcvEQQ0RiO",
        "colab_type": "text"
      },
      "source": [
        "### 77.约瑟夫生者死者小游戏\n",
        "30 个人在一条船上，超载，需要 15 人下船。于是人们排成一队，排队的位置即为他们的编号。报数，从 1 开始，数到 9 的人下船。如此循环，直到船上仅剩 15 人为止，问都有哪些编号的人下船了呢？"
      ]
    },
    {
      "cell_type": "code",
      "metadata": {
        "id": "SYp-6bp40gg5",
        "colab_type": "code",
        "outputId": "2513c5de-b33e-4465-971c-7e02646e8708",
        "colab": {
          "base_uri": "https://localhost:8080/",
          "height": 309
        }
      },
      "source": [
        "ori = list(range(1,31))\n",
        "a = ori[:]              #copy原来的人数序列作为\n",
        "while len(a)>15:        \n",
        "    b = len(a)%9        #剩下的人数被9整除后的余数b\n",
        "    for i in range(1,len(a)+1):\n",
        "        if i%9 == 0:\n",
        "            a[i-1] = 0      #被9整除的位置那个数改为0\n",
        "            off = set(ori) - set(a)     #用set\b相减的形式可以得到刚才改为0的那个数在原始序列的值\n",
        "            print('No. %d disembark from the boad.' %list(off)[0])      #将刚才得到的set形式的转为list形式方便读取\n",
        "            ori = a[:]      #将原始数列更新为了下一次相减\n",
        "    while 0 in a:\n",
        "        a.remove(0)     \n",
        "    a = a[-b:]+a[:-b]   #将余数b移到序列的左边从而可以新一轮报数\n",
        "print('The people left on the boat:',a)\n"
      ],
      "execution_count": 0,
      "outputs": [
        {
          "output_type": "stream",
          "text": [
            "No. 9 disembark from the boad.\n",
            "No. 18 disembark from the boad.\n",
            "No. 27 disembark from the boad.\n",
            "No. 6 disembark from the boad.\n",
            "No. 16 disembark from the boad.\n",
            "No. 26 disembark from the boad.\n",
            "No. 7 disembark from the boad.\n",
            "No. 19 disembark from the boad.\n",
            "No. 30 disembark from the boad.\n",
            "No. 12 disembark from the boad.\n",
            "No. 24 disembark from the boad.\n",
            "No. 8 disembark from the boad.\n",
            "No. 22 disembark from the boad.\n",
            "No. 5 disembark from the boad.\n",
            "No. 23 disembark from the boad.\n",
            "The people left on the boat: [25, 28, 29, 1, 2, 3, 4, 10, 11, 13, 14, 15, 17, 20, 21]\n"
          ],
          "name": "stdout"
        }
      ]
    },
    {
      "cell_type": "markdown",
      "metadata": {
        "id": "gUoHe0spllVZ",
        "colab_type": "text"
      },
      "source": [
        "### 78.不重复的3位数\n",
        "0 ~ 9这10个数字，可以组成多少个没有重复数字的3位数？（比如 123、456 这种，但不包括 112, 333 这种）"
      ]
    },
    {
      "cell_type": "code",
      "metadata": {
        "id": "khJIHyIsl0IU",
        "colab_type": "code",
        "outputId": "9812ca5a-fc00-4e14-f8ab-7b4162a5b8c6",
        "colab": {
          "base_uri": "https://localhost:8080/",
          "height": 34
        }
      },
      "source": [
        "import itertools\n",
        "num_all = list(itertools.permutations(range(10),3))\n",
        "num = [i for i in num_all if i[0] != 0]\n",
        "print(len(num))"
      ],
      "execution_count": 0,
      "outputs": [
        {
          "output_type": "stream",
          "text": [
            "648\n"
          ],
          "name": "stdout"
        }
      ]
    },
    {
      "cell_type": "markdown",
      "metadata": {
        "id": "W6z7Q0a7X5cw",
        "colab_type": "text"
      },
      "source": [
        "### 79.相亲数\n",
        "220的真因数之和为1+2+4+5+10+11+20+22+44+55+110=284。284的真因数之和为1+2+4+71+142=220。毕达哥拉斯把这样的数对A、B称为相亲数：A的真因数之和为B，而B的真因数之和为A。求100000以内的相亲数。"
      ]
    },
    {
      "cell_type": "markdown",
      "metadata": {
        "id": "pbH5PfEhBKHb",
        "colab_type": "text"
      },
      "source": [
        "> *第一次尝试结果不对，用字典形式将数字作为字典的key，它的因数之和作为字典的value，然后键值转置找两个字典相同的键值对。发现结果比正确答案少了，后发现是因为在原始字典中如果有不同的数但是得到的真因数之和相同（即不同的key有相同的value），键值转置后只保留一个，因此会有缺失*\n",
        "\n"
      ]
    },
    {
      "cell_type": "code",
      "metadata": {
        "id": "HF8qXVmvYDK6",
        "colab_type": "code",
        "outputId": "fca5be59-2b20-4687-fbce-fe680b2194c7",
        "colab": {
          "base_uri": "https://localhost:8080/",
          "height": 187
        }
      },
      "source": [
        "factor_sum = {}\n",
        "for i in range(1,100000):\n",
        "    factor = []             #新建一个空list用来放每个数的因数\n",
        "    for j in range(1,i):\n",
        "        if i%j ==0:         #如果可以被整除，就加到list里\n",
        "            factor.append(j)\n",
        "    factor_sum[i] = sum(factor)     #将数字作为字典的key，它的因数之和作为字典的value\n",
        "reverse_sum = {v:k for k,v in factor_sum.items()}       #将字典的键值转置组成一个新字典\n",
        "same = factor_sum.items() & reverse_sum.items()         #找到两个字典相同的键值对即相亲数\n",
        "print(same)"
      ],
      "execution_count": 0,
      "outputs": [
        {
          "output_type": "execute_result",
          "data": {
            "text/plain": [
              "{(28, 28),\n",
              " (220, 284),\n",
              " (5020, 5564),\n",
              " (6368, 6232),\n",
              " (10744, 10856),\n",
              " (63020, 76084),\n",
              " (66992, 66928),\n",
              " (69615, 87633),\n",
              " (71145, 67095),\n",
              " (88730, 79750)}"
            ]
          },
          "metadata": {
            "tags": []
          },
          "execution_count": 13
        }
      ]
    },
    {
      "cell_type": "markdown",
      "metadata": {
        "id": "H_HyrqozCcQH",
        "colab_type": "text"
      },
      "source": [
        "> *第二次尝试运行结果正确但耗时太久*\n",
        "\n",
        "\n",
        "\n"
      ]
    },
    {
      "cell_type": "code",
      "metadata": {
        "id": "64ZzoiZ_mMqJ",
        "colab_type": "code",
        "colab": {}
      },
      "source": [
        "def factor_sum(n):\n",
        "    sum_all = 0\n",
        "    for i in range (1,n):\n",
        "        if n%i == 0:\n",
        "            sum_all += i\n",
        "    return sum_all\n",
        "\n",
        "for j in range(1,100000):\n",
        "    a = factor_sum(j)\n",
        "    if j == factor_sum(a) and j<a:\n",
        "        print(j,a)"
      ],
      "execution_count": 0,
      "outputs": []
    },
    {
      "cell_type": "markdown",
      "metadata": {
        "id": "RuNCe7AjL2HO",
        "colab_type": "text"
      },
      "source": [
        "> *参考了答案后再尝试，运行结果正确且用时较短。*\n",
        "\n"
      ]
    },
    {
      "cell_type": "code",
      "metadata": {
        "id": "FhqTJuOmC3vS",
        "colab_type": "code",
        "outputId": "5bc6ae0f-2d0f-44fb-fcf2-c9f02ccc48e0",
        "colab": {
          "base_uri": "https://localhost:8080/",
          "height": 238
        }
      },
      "source": [
        "def factor_sum(n):\n",
        "    sum_all = 1                 #在找因数的时候没有算1，所以在算真因数之和时需要加上1\n",
        "    num = 2                     \n",
        "    while num < n//num:         #因数是成对出现的,这样减少运算数量\n",
        "        if n%num == 0:\n",
        "            sum_all += (num + n//num)   \n",
        "        num +=1\n",
        "    return sum_all\n",
        "\n",
        "for j in range(1,100000):\n",
        "    a = factor_sum(j)\n",
        "    if j == factor_sum(a) and j<a:\n",
        "        print(j,a)"
      ],
      "execution_count": 0,
      "outputs": [
        {
          "output_type": "stream",
          "text": [
            "220 284\n",
            "1184 1210\n",
            "2620 2924\n",
            "5020 5564\n",
            "6232 6368\n",
            "10744 10856\n",
            "12285 14595\n",
            "17296 18416\n",
            "63020 76084\n",
            "66928 66992\n",
            "67095 71145\n",
            "69615 87633\n",
            "79750 88730\n"
          ],
          "name": "stdout"
        }
      ]
    },
    {
      "cell_type": "markdown",
      "metadata": {
        "id": "kJ2Ef2O7QFZb",
        "colab_type": "text"
      },
      "source": [
        "### 80.勾股数\n",
        "所谓勾股数，一般是指能够构成直角三角形3条边的3个正整数（a,b,c)。即a2+b2=c2，a，b，cΣN。求1000以内的勾股数。"
      ]
    },
    {
      "cell_type": "code",
      "metadata": {
        "id": "LklT8PIDQkvV",
        "colab_type": "code",
        "colab": {}
      },
      "source": [
        "for i in range(1,1001):\n",
        "    for j in range(i,1001):\n",
        "        for k in range(1,1001):\n",
        "            if i*i + j*j == k*k:\n",
        "                print(i,j,k)"
      ],
      "execution_count": 0,
      "outputs": []
    }
  ]
}