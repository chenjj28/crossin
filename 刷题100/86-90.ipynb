{
  "nbformat": 4,
  "nbformat_minor": 0,
  "metadata": {
    "colab": {
      "name": "86-90.ipynb",
      "provenance": [],
      "collapsed_sections": [],
      "authorship_tag": "ABX9TyOkrJedLKf72DgtqF01IWqV",
      "include_colab_link": true
    },
    "kernelspec": {
      "name": "python3",
      "display_name": "Python 3"
    }
  },
  "cells": [
    {
      "cell_type": "markdown",
      "metadata": {
        "id": "view-in-github",
        "colab_type": "text"
      },
      "source": [
        "<a href=\"https://colab.research.google.com/github/chenjj28/crossin/blob/master/86-90.ipynb\" target=\"_parent\"><img src=\"https://colab.research.google.com/assets/colab-badge.svg\" alt=\"Open In Colab\"/></a>"
      ]
    },
    {
      "cell_type": "markdown",
      "metadata": {
        "id": "g8PEaogRHLo8",
        "colab_type": "text"
      },
      "source": [
        "### 86.尾数前移\n",
        "求一个自然数N，个位数是6，将6提到最前面所得数是N的4倍。"
      ]
    },
    {
      "cell_type": "code",
      "metadata": {
        "id": "lu-n-eg9LmYY",
        "colab_type": "code",
        "outputId": "72815ea1-55bb-4341-cf7d-08db8148a71c",
        "colab": {
          "base_uri": "https://localhost:8080/",
          "height": 34
        }
      },
      "source": [
        "N=16\n",
        "while N:\n",
        "    dig = len(str(N))\n",
        "    if (N//10 + 6*(10**(dig-1)))/N == 4:\n",
        "        print(N)\n",
        "        break\n",
        "    else:\n",
        "        N += 10"
      ],
      "execution_count": 0,
      "outputs": [
        {
          "output_type": "stream",
          "text": [
            "153846\n"
          ],
          "name": "stdout"
        }
      ]
    },
    {
      "cell_type": "markdown",
      "metadata": {
        "id": "qFfjASYbN9xV",
        "colab_type": "text"
      },
      "source": [
        "### 87.黑洞数\n",
        "黑洞数又称陷阱数，是类具有奇特转换特性的整数。任何一个数字不全相同的整数，经有限“重排求差”操作，总会得到某一个或一些数，这些数即为黑洞数。“重排求差”操作即把组成该数的数字重排后得到的最大数减去重排后得到的最小数。举个例子，3位数的黑洞数为495.简易推导过程：随便找个数，如297,3个位上的数从小到大和从大到小各排一次，为972和279，相减得693。按上面做法再做一次，得到594，再做一次，得到495，之后反复都得到495。验证4位数的黑洞数为6174。"
      ]
    },
    {
      "cell_type": "code",
      "metadata": {
        "id": "F2ftHaSBODH-",
        "colab_type": "code",
        "outputId": "f526e5b5-0456-469c-c631-52c5662d733c",
        "colab": {
          "base_uri": "https://localhost:8080/",
          "height": 52
        }
      },
      "source": [
        "n = int(input('Please enter a 4-dig number: '))\n",
        "bh = 0\n",
        "if n%1111 != 0:\n",
        "    while True:\n",
        "        lst = list(str(n))\n",
        "        big = int(''.join(sorted(lst,reverse = True)))\n",
        "        small = int(''.join(sorted(lst)))\n",
        "        bh = big-small\n",
        "        if n == bh:\n",
        "            print(n)\n",
        "            break\n",
        "        else:\n",
        "            n = bh"
      ],
      "execution_count": 0,
      "outputs": [
        {
          "output_type": "stream",
          "text": [
            "Please enter a 4-dig number: 1236\n",
            "6174\n"
          ],
          "name": "stdout"
        }
      ]
    },
    {
      "cell_type": "markdown",
      "metadata": {
        "id": "dVhZKgmkT4jk",
        "colab_type": "text"
      },
      "source": [
        "### 88.3位反序数\n",
        "所谓反序数，即有这样成对的数，其特点是其中一个数的数字排列顺序完全颠倒过来，就变成另一个数，如102和201，36和63等，简单的理解就是顺序相反的两个数，我们把这种成对的数互称为反序数。反序数唯一不可能出现以0结尾的数。一个3位数各位上的数字都不相同，它和它的反序数的乘积是280021，这个3位数应是多少？"
      ]
    },
    {
      "cell_type": "code",
      "metadata": {
        "id": "wHk5lCEJT_bJ",
        "colab_type": "code",
        "colab": {
          "base_uri": "https://localhost:8080/",
          "height": 34
        },
        "outputId": "fd2fe195-c546-4d6b-a381-086075788e65"
      },
      "source": [
        "for i in range (102,987):\n",
        "    if int(str(n)[::-1])*n == 280021:\n",
        "        print(n)\n",
        "        break"
      ],
      "execution_count": 4,
      "outputs": [
        {
          "output_type": "stream",
          "text": [
            "367\n"
          ],
          "name": "stdout"
        }
      ]
    },
    {
      "cell_type": "markdown",
      "metadata": {
        "id": "ktoTobmjVT5c",
        "colab_type": "text"
      },
      "source": [
        "### 89.孪生素数\n",
        "若两个素数之差为2，则这两个素数就是孪生素数。编写程序找出1 ~ 100之间的所有孪生素数。"
      ]
    },
    {
      "cell_type": "code",
      "metadata": {
        "id": "QtdGTA3FT_XM",
        "colab_type": "code",
        "colab": {
          "base_uri": "https://localhost:8080/",
          "height": 158
        },
        "outputId": "297d9ee5-1323-4e39-9605-6082f7caa5b0"
      },
      "source": [
        "lst = []\n",
        "for i in range(2,100):\n",
        "    for j in range(2,i):\n",
        "        if i%j == 0:\n",
        "            break\n",
        "    else:\n",
        "        lst.append(i)\n",
        "for k in range(len(lst)-1):\n",
        "    if lst[k] + 2 == lst[k+1]:\n",
        "        print(lst[k],lst[k+1])"
      ],
      "execution_count": 5,
      "outputs": [
        {
          "output_type": "stream",
          "text": [
            "3 5\n",
            "5 7\n",
            "11 13\n",
            "17 19\n",
            "29 31\n",
            "41 43\n",
            "59 61\n",
            "71 73\n"
          ],
          "name": "stdout"
        }
      ]
    },
    {
      "cell_type": "markdown",
      "metadata": {
        "id": "vwqWwystFKKn",
        "colab_type": "text"
      },
      "source": [
        "### 90.金蝉素数\n",
        "某古寺的一块石碑上依稀刻有一些神秘的自然数。\n",
        "专家研究发现：这些数是由1,3,5,7,9这5个奇数字排列组成的5位素数，同时去掉它的最高位与最低位数字后的3位数还是素数，同时去掉它的高二位与低二位数字后的一位数还是素数。因此人们把这些神秘的素数称为金蝉素数，喻意金蝉脱壳之后仍为美丽的金蝉。试求出石碑上的金蝉素数。"
      ]
    },
    {
      "cell_type": "code",
      "metadata": {
        "id": "jOw7SImdlWJz",
        "colab_type": "code",
        "colab": {
          "base_uri": "https://localhost:8080/",
          "height": 105
        },
        "outputId": "198da15f-93bb-45c8-f01f-a814f9fa8b90"
      },
      "source": [
        "import itertools\n",
        "lst = [1,3,5,7,9]\n",
        "a = list(itertools.permutations('13579',5))\n",
        "b = [i for i in a if i[-1] != '5' and i[-2] != '5' and i[2] != '9' and i[3] != '1']         #三位数和五位数都是素数则它们的最后一位都不能为5，因此倒数第一和第二位是5的先剔除,中间一位不能是1和9\n",
        "for i in b:\n",
        "    num5 = int(''.join(i))                                  #全部组成五位数\n",
        "    num3 = int(''.join(i[1:-1]))                            #中间三个组成三位数\n",
        "    for j in range(2,num3):\n",
        "        if num3%j == 0:\n",
        "            break\n",
        "    else:\n",
        "        for k in range(2,num5):\n",
        "            if num5%k == 0:\n",
        "                break\n",
        "        else:\n",
        "            print(num5)"
      ],
      "execution_count": 52,
      "outputs": [
        {
          "output_type": "stream",
          "text": [
            "13597\n",
            "53791\n",
            "57193\n",
            "79531\n",
            "91573\n"
          ],
          "name": "stdout"
        }
      ]
    }
  ]
}
