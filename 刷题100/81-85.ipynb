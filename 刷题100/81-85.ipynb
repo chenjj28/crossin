{
  "nbformat": 4,
  "nbformat_minor": 0,
  "metadata": {
    "colab": {
      "name": "81-85.ipynb",
      "provenance": [],
      "collapsed_sections": [],
      "authorship_tag": "ABX9TyPSR1PWLKAjj8XKlmZpDx3m",
      "include_colab_link": true
    },
    "kernelspec": {
      "name": "python3",
      "display_name": "Python 3"
    }
  },
  "cells": [
    {
      "cell_type": "markdown",
      "metadata": {
        "id": "view-in-github",
        "colab_type": "text"
      },
      "source": [
        "<a href=\"https://colab.research.google.com/github/chenjj28/crossin/blob/master/81-85.ipynb\" target=\"_parent\"><img src=\"https://colab.research.google.com/assets/colab-badge.svg\" alt=\"Open In Colab\"/></a>"
      ]
    },
    {
      "cell_type": "markdown",
      "metadata": {
        "id": "q2-ieDf2egaw",
        "colab_type": "text"
      },
      "source": [
        "### 81.自守数\n",
        "如果某个数的平方的末尾几位等于这个数，那么就称这个数为自守数。显然，5和6是一位自守数（5 * 5=25，6 * 6=36)。 25 * 25=625,76 * 76=5776，所以25和76是两位自守数。求10000以内的自守数。"
      ]
    },
    {
      "cell_type": "code",
      "metadata": {
        "id": "x7DxoToffkf2",
        "colab_type": "code",
        "outputId": "c22539d1-ddc1-4003-f662-a574aed441be",
        "colab": {
          "base_uri": "https://localhost:8080/",
          "height": 34
        }
      },
      "source": [
        "for n in range(1,10000):\n",
        "    length = len(str(n))\n",
        "    if int(str(n*n)[-length:]) == n:\n",
        "        print(n, end = ' ')"
      ],
      "execution_count": 0,
      "outputs": [
        {
          "output_type": "stream",
          "text": [
            "1 5 6 25 76 376 625 9376 "
          ],
          "name": "stdout"
        }
      ]
    },
    {
      "cell_type": "markdown",
      "metadata": {
        "id": "vnxvm9lggkMV",
        "colab_type": "text"
      },
      "source": [
        "### 82.角谷猜想\n",
        "角谷猜想的内容为：任意给定一个自然数，若它为偶数则除以2，若它为奇术则乘3加1，得到一个新的自然数。按照这样的计算方法计算下去，若干次后得到的结果必然为1。编写程序对角谷猜想的正确性加以验证"
      ]
    },
    {
      "cell_type": "code",
      "metadata": {
        "id": "jQuntXa-grAt",
        "colab_type": "code",
        "outputId": "cf9edb0c-f09a-4b53-e9fb-f604980053f8",
        "colab": {
          "base_uri": "https://localhost:8080/",
          "height": 51
        }
      },
      "source": [
        "import random\n",
        "n = random.randint(1,1000)\n",
        "print(n)\n",
        "while n != 1:\n",
        "    if n%2 == 0:\n",
        "        n = n/2\n",
        "    else:\n",
        "        n = n*3+1\n",
        "    print(n, end = ' ')"
      ],
      "execution_count": 0,
      "outputs": [
        {
          "output_type": "stream",
          "text": [
            "17\n",
            "52 26.0 13.0 40.0 20.0 10.0 5.0 16.0 8.0 4.0 2.0 1.0 "
          ],
          "name": "stdout"
        }
      ]
    },
    {
      "cell_type": "markdown",
      "metadata": {
        "id": "tu5HlaLMh9OB",
        "colab_type": "text"
      },
      "source": [
        "### 83.卡布列克常数\n",
        "任意一个不是用完全相同数字组成的四位数，如果对它们的每位数字重新排序，组成一个较大的数和一个较小的数，然后用较大的数减去较小数，不够四位数时补零，类推下去，最后将变成一个固定的数：6174，这就是卡布列克常数。<br>\n",
        "例如：\n",
        "4321-1234=3087\n",
        "8730-378=8352\n",
        "8532-2358=6174\n",
        "7641-1467=6174\n",
        "编写程序验证卡布列克常数。"
      ]
    },
    {
      "cell_type": "code",
      "metadata": {
        "id": "30BTytHrnZTU",
        "colab_type": "code",
        "outputId": "2f5e49e5-5c19-407e-d643-35ba2be2a250",
        "colab": {
          "base_uri": "https://localhost:8080/",
          "height": 136
        }
      },
      "source": [
        "import random\n",
        "n = random.randint(1000,9999)\n",
        "if n%1111 != 0:\n",
        "    print(n)\n",
        "    while n != 6174:\n",
        "        lst = list(str(n))\n",
        "        small = int(''.join(sorted(lst)))\n",
        "        big = int(''.join(sorted(lst,reverse=True)))\n",
        "        n = big-small\n",
        "        print(f'{big} - {small} = {n}')"
      ],
      "execution_count": 0,
      "outputs": [
        {
          "output_type": "stream",
          "text": [
            "4643\n",
            "6443 - 3446 = 2997\n",
            "9972 - 2799 = 7173\n",
            "7731 - 1377 = 6354\n",
            "6543 - 3456 = 3087\n",
            "8730 - 378 = 8352\n",
            "8532 - 2358 = 6174\n"
          ],
          "name": "stdout"
        }
      ]
    },
    {
      "cell_type": "markdown",
      "metadata": {
        "id": "cNujb0PBsziu",
        "colab_type": "text"
      },
      "source": [
        "### 84.年龄问题\n",
        "王二、张三、李四、刘五年龄成一等差数列，他们四人的年龄相加是28，相乘是585。求以他们的年龄."
      ]
    },
    {
      "cell_type": "code",
      "metadata": {
        "id": "ZzP2Iad7s7aA",
        "colab_type": "code",
        "colab": {
          "base_uri": "https://localhost:8080/",
          "height": 34
        },
        "outputId": "9aa3067e-8823-49fb-c56e-60fc97038b74"
      },
      "source": [
        "for n in range(1,7):\n",
        "    for d in range(1,7):\n",
        "        if n*4 + d*6 == 28 and n*(n+d)*(n+2*d)*(n+3*d)==585:\n",
        "            print(n,n+d,n+2*d,n+3*d)"
      ],
      "execution_count": 12,
      "outputs": [
        {
          "output_type": "stream",
          "text": [
            "1 5 9 13\n"
          ],
          "name": "stdout"
        }
      ]
    },
    {
      "cell_type": "markdown",
      "metadata": {
        "id": "WicIFZkP-qMo",
        "colab_type": "text"
      },
      "source": [
        "### 85.双色球\n",
        "根据福利彩票双色球玩法规则，6个蓝色球，范围为1 ~ 33，不允许重复，1个红色球，范围为1 ~ 16，自动生成6个蓝色球，1个红色球。"
      ]
    },
    {
      "cell_type": "code",
      "metadata": {
        "id": "7dz5d9r-BlXG",
        "colab_type": "code",
        "colab": {
          "base_uri": "https://localhost:8080/",
          "height": 34
        },
        "outputId": "02de9bd3-9784-40c3-d98b-b309024db2c3"
      },
      "source": [
        "import random\n",
        "blue = list(range(1,34))\n",
        "red = random.randint(1,17)\n",
        "random.shuffle(blue)\n",
        "lst = blue[:6]\n",
        "print(f'Blue: {lst}, Red: {red}')"
      ],
      "execution_count": 42,
      "outputs": [
        {
          "output_type": "stream",
          "text": [
            "Blue: [9, 15, 8, 23, 26, 12], Red: 13\n"
          ],
          "name": "stdout"
        }
      ]
    }
  ]
}
