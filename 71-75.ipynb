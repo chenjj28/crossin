{
  "nbformat": 4,
  "nbformat_minor": 0,
  "metadata": {
    "colab": {
      "name": "Untitled0.ipynb",
      "provenance": [],
      "authorship_tag": "ABX9TyN0dd2OmZPBOYruqQ/E7pF2",
      "include_colab_link": true
    },
    "kernelspec": {
      "name": "python3",
      "display_name": "Python 3"
    }
  },
  "cells": [
    {
      "cell_type": "markdown",
      "metadata": {
        "id": "view-in-github",
        "colab_type": "text"
      },
      "source": [
        "<a href=\"https://colab.research.google.com/github/chenjj28/crossin/blob/master/71-75.ipynb\" target=\"_parent\"><img src=\"https://colab.research.google.com/assets/colab-badge.svg\" alt=\"Open In Colab\"/></a>"
      ]
    },
    {
      "cell_type": "markdown",
      "metadata": {
        "id": "c0TZmN0u-0_6",
        "colab_type": "text"
      },
      "source": [
        "### 71.报 3 问题\n",
        "有n个人围成一圈，顺序排号。从第一个人开始报数（从1到3报数），凡报到3的人退出圈子，问最后留下的是原来第几号的那位。"
      ]
    },
    {
      "cell_type": "code",
      "metadata": {
        "id": "d0NkL_uUoyyx",
        "colab_type": "code",
        "outputId": "1486437a-eba7-4721-a816-2d242ee03bb4",
        "colab": {
          "base_uri": "https://localhost:8080/",
          "height": 51
        }
      },
      "source": [
        "n = int(input('Please enter the number of total people:'))\n",
        "r = list(range(1,n+1))\n",
        "while len(r)>2:\n",
        "    a = int((len(r))%3)                     #r的长度除以3之后的余数a（即第一轮最后报完3还剩a人）\n",
        "    r = [r[j] if (j+1)%3 != 0 else 0 for j in range(len(r))]        #如果index+1可以被3整除（即报数为3），这个位置的值替换成0\n",
        "    while 0 in r:               #把新的列表中所有的0去掉\n",
        "        r.remove(0)\n",
        "    r = r[-a:]+r[:-a]           #把之前不够被3整除的余数a位置的a个数移到最前面开始新一轮报数\n",
        "print(r[1])                     #循环结束之后列表中还剩两个数，再报一轮之后第二个数将被留下"
      ],
      "execution_count": 98,
      "outputs": [
        {
          "output_type": "stream",
          "text": [
            "Please enter the number of total people:10\n",
            "4\n"
          ],
          "name": "stdout"
        }
      ]
    },
    {
      "cell_type": "markdown",
      "metadata": {
        "id": "cmiz_AIr_Dk9",
        "colab_type": "text"
      },
      "source": [
        "### 72.猴子分桃问题\n",
        "海滩上有一堆桃子，五只猴子来分。第一只猴子把这堆桃子平均分为五份，多了一个，这只猴子把多的一个扔入海中，拿走了一份。第二只猴子把剩下的桃子又平均分成五份，又多了一个，它同样把多的一个扔入海中，拿走了一份，第三、第四、第五只猴子都是这样做的，问海滩上原来最少有多少个桃子？"
      ]
    },
    {
      "cell_type": "code",
      "metadata": {
        "id": "TXJFAO_mwORz",
        "colab_type": "code",
        "colab": {
          "base_uri": "https://localhost:8080/",
          "height": 34
        },
        "outputId": "37c77cfd-4a0b-4d2e-b7fe-ef55f16e9de9"
      },
      "source": [
        "i = 0 # 控制循环\n",
        "j = 1 # 假设第5只猴子拿走了1个\n",
        "x = 0 # 剩余桃子的个数\n",
        "while (i < 5):\n",
        "    x = 4 * j # 第5只猴子拿走桃子之后海滩上剩下的桃子\n",
        "    for i in range(5):            #在这个循环中找到一个数使得每次海滩上剩下的个数都可以被4整除\n",
        "        if x % 4 == 0:\n",
        "            i += 1\n",
        "        else:\n",
        "            break\n",
        "        x = x // 4 * 5 + 1 # 上一只猴子拿走后海滩剩下的桃子的个数\n",
        "    j += 1\n",
        "print(x)"
      ],
      "execution_count": 2,
      "outputs": [
        {
          "output_type": "stream",
          "text": [
            "3121\n"
          ],
          "name": "stdout"
        }
      ]
    },
    {
      "cell_type": "markdown",
      "metadata": {
        "id": "tUfsndqsykwV",
        "colab_type": "text"
      },
      "source": [
        "### 73.奇数组合问题\n",
        "求 0~7 这 8 个数字所能组成的奇数个数。数字可不全用，但不可重复"
      ]
    },
    {
      "cell_type": "code",
      "metadata": {
        "id": "JCVT8lPhzVYn",
        "colab_type": "code",
        "colab": {
          "base_uri": "https://localhost:8080/",
          "height": 34
        },
        "outputId": "b23840dc-ad52-45cb-c1ee-d3edbc3c58d9"
      },
      "source": [
        "#通过itertools的product函数分别进行1到8位的有放回的抽样排列\n",
        "import itertools\n",
        "num = 0\n",
        "for i in range (1,9):\n",
        "    count = 0\n",
        "    number = list(itertools.product('01234567',repeat = i))\n",
        "    for j in number:\n",
        "        if j[0] == '0' or j[-1] =='0' or j[-1] =='2' or j[-1] =='4' or j[-1] =='6':\n",
        "            count += 1\n",
        "    num += (len(number)-count)\n",
        "print(num)"
      ],
      "execution_count": 21,
      "outputs": [
        {
          "output_type": "stream",
          "text": [
            "8388608\n"
          ],
          "name": "stdout"
        }
      ]
    },
    {
      "cell_type": "markdown",
      "metadata": {
        "id": "U4mDpNkD3EZt",
        "colab_type": "text"
      },
      "source": [
        "### 74.数组排序\n",
        "【问题】有一个已经排好序的数组。[1,4,6,9,13,16,19,28,40,100]。现随机生成输入一个数（1-150），要求按原来的规律将它插入数组中。<br>\n",
        "【分析】首先判断此数是否大于最后一个数，然后再考虑插入中间的数的情况，插入后此元素之后的数，依次后移一个位置。"
      ]
    },
    {
      "cell_type": "code",
      "metadata": {
        "id": "pLwhvJFDQ20x",
        "colab_type": "code",
        "colab": {
          "base_uri": "https://localhost:8080/",
          "height": 51
        },
        "outputId": "393097a0-3ff3-4dd4-afce-eee1c243d197"
      },
      "source": [
        "import random\n",
        "a = [1,4,6,9,13,16,19,28,40,100]\n",
        "num = random.randint(1,150)\n",
        "if num>a[-1]:\n",
        "    a.append(num)\n",
        "else:\n",
        "    for i in range(len(a)):\n",
        "        if num <a[i]:\n",
        "            a.insert(i,num)\n",
        "            break\n",
        "print(num)\n",
        "print(a)"
      ],
      "execution_count": 16,
      "outputs": [
        {
          "output_type": "stream",
          "text": [
            "76\n",
            "[1, 4, 6, 9, 13, 16, 19, 28, 40, 76, 100]\n"
          ],
          "name": "stdout"
        }
      ]
    },
    {
      "cell_type": "markdown",
      "metadata": {
        "id": "G4g5TruzXheZ",
        "colab_type": "text"
      },
      "source": [
        "### 75.阿姆斯特朗数\n",
        "检测用户输入数字是否为阿姆斯特朗数。如果一个n位正整数等于其各位数字的n次方之和,则称该数为阿姆斯特朗数。 例如1^3 + 5^3 + 3^3 = 153。1000以内的阿姆斯特朗数： 1, 2, 3, 4, 5, 6, 7, 8, 9, 153, 370, 371, 407。"
      ]
    },
    {
      "cell_type": "code",
      "metadata": {
        "id": "WqZaYQejY5Hi",
        "colab_type": "code",
        "colab": {
          "base_uri": "https://localhost:8080/",
          "height": 51
        },
        "outputId": "c9af47f1-412d-4e2f-9c07-d0ecab5494ee"
      },
      "source": [
        "num = input('Please enter a number: ')\n",
        "s = 0\n",
        "for i in range(len(num)):\n",
        "    s += int(num[i])**len(num)\n",
        "if s == int(num):\n",
        "    print('This is a Armstrong number.')\n",
        "else:\n",
        "    print('This is not a Armstrong number.')"
      ],
      "execution_count": 27,
      "outputs": [
        {
          "output_type": "stream",
          "text": [
            "Please enter a number: 153\n",
            "This is a Armstrong number.\n"
          ],
          "name": "stdout"
        }
      ]
    }
  ]
}