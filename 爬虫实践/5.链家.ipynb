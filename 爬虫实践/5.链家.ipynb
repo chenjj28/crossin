{
 "cells": [
  {
   "cell_type": "code",
   "execution_count": 59,
   "metadata": {},
   "outputs": [
    {
     "name": "stdout",
     "output_type": "stream",
     "text": [
      "Successfully complete Page1\n",
      "Successfully complete Page2\n",
      "Successfully complete Page3\n",
      "Successfully complete Page4\n"
     ]
    }
   ],
   "source": [
    "import requests\n",
    "import csv\n",
    "from bs4 import BeautifulSoup\n",
    "\n",
    "url = 'https://sh.lianjia.com/zufang/pg'\n",
    "total_page = 5\n",
    "page = 1\n",
    "with open('lianjia.csv','w') as f:\n",
    "    f_csv = csv.writer(f)\n",
    "    while page<total_page:\n",
    "        try:\n",
    "            r = requests.get(url+str(page))\n",
    "        except:\n",
    "            print('Request failed.')\n",
    "\n",
    "        soup = BeautifulSoup(r.text,'html.parser')\n",
    "        current_page = soup.find_all(class_='content__list--item')\n",
    "        for i in range(len(current_page)):\n",
    "            info = current_page[i]\n",
    "            title = info.div.a.string.strip()\n",
    "            web = info.div.a['href']\n",
    "            type = info.div.find_all(class_='content__list--item--des')[0]\n",
    "            type_list = type.get_text(strip=True).split(' ')[0].split('/')\n",
    "            bottom = info.div.find_all(class_='content__list--item--bottom oneline')[0]\n",
    "            view_info = ','.join(bottom.get_text().strip().split('\\n'))\n",
    "            row = [title,web]\n",
    "            row.extend(type_list)\n",
    "            row.append(view_info)\n",
    "            f_csv.writerow(row)\n",
    "        print('Successfully complete Page'+str(page))\n",
    "        page += 1"
   ]
  },
  {
   "cell_type": "code",
   "execution_count": null,
   "metadata": {},
   "outputs": [],
   "source": []
  }
 ],
 "metadata": {
  "kernelspec": {
   "display_name": "Python 3",
   "language": "python",
   "name": "python3"
  },
  "language_info": {
   "codemirror_mode": {
    "name": "ipython",
    "version": 3
   },
   "file_extension": ".py",
   "mimetype": "text/x-python",
   "name": "python",
   "nbconvert_exporter": "python",
   "pygments_lexer": "ipython3",
   "version": "3.7.6"
  },
  "varInspector": {
   "cols": {
    "lenName": 16,
    "lenType": 16,
    "lenVar": 40
   },
   "kernels_config": {
    "python": {
     "delete_cmd_postfix": "",
     "delete_cmd_prefix": "del ",
     "library": "var_list.py",
     "varRefreshCmd": "print(var_dic_list())"
    },
    "r": {
     "delete_cmd_postfix": ") ",
     "delete_cmd_prefix": "rm(",
     "library": "var_list.r",
     "varRefreshCmd": "cat(var_dic_list()) "
    }
   },
   "types_to_exclude": [
    "module",
    "function",
    "builtin_function_or_method",
    "instance",
    "_Feature"
   ],
   "window_display": false
  }
 },
 "nbformat": 4,
 "nbformat_minor": 4
}
