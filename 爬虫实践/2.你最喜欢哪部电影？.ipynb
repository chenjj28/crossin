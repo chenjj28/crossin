{
 "cells": [
  {
   "cell_type": "markdown",
   "metadata": {},
   "source": [
    "### 利用豆瓣 api 接口，批量抓取豆瓣电影数据并保存至本地 csv 文件中 \n",
    "1. 利用豆瓣 api 接口（https://api.douban.com/v2/movie/1292052?apikey=0df993c66c0c636e29ecbb5344252a4a ），获得电影 “肖申克的救赎”的电影海报 url 地址，下载电影海报到本地；"
   ]
  },
  {
   "cell_type": "code",
   "execution_count": 9,
   "metadata": {},
   "outputs": [],
   "source": [
    "import requests\n",
    "\n",
    "url = 'https://api.douban.com/v2/movie/1292052?apikey=0df993c66c0c636e29ecbb5344252a4a'\n",
    "r = requests.get(url,headers={'user-agent':'chrome'}).json()\n",
    "imageurl = r.get('image')\n",
    "image = requests.get(imageurl).content\n",
    "with open('The Shawshank Redemption.jpg','wb') as f:\n",
    "    f.write(image)"
   ]
  },
  {
   "cell_type": "markdown",
   "metadata": {},
   "source": [
    "2. 利用豆瓣电影 top 250 的 api 接口(https://api.douban.com/v2/movie/top250?start=0&apikey=0df993c66c0c636e29ecbb5344252a4a )，\n",
    "批量获取250部电影的电影名、主演、评分等数据，保存数据到本地 csv 文件；"
   ]
  },
  {
   "cell_type": "code",
   "execution_count": 48,
   "metadata": {},
   "outputs": [],
   "source": [
    "import time\n",
    "with open('movies.csv','w') as f:\n",
    "    headers = ['电影名','主演','评分','年份','海报']\n",
    "    f_csv = csv.writer(f)\n",
    "    f_csv.writerow(headers)\n",
    "    \n",
    "    for start in range(0,250,20):\n",
    "        url250 = 'https://api.douban.com/v2/movie/top250?start=0&apikey=0df993c66c0c636e29ecbb5344252a4a'.format(start)\n",
    "        r = requests.get(url250,headers={'user-agent':'chrome'}).json()\n",
    "\n",
    "        for i in range(len(r['subjects'])):\n",
    "            data = r['subjects'][i]\n",
    "            image = data['images']['medium']\n",
    "            actor = ','.join(x['name'] for x in data['casts'])\n",
    "            row = [data['title'],actor,data['rating']['average'],data['year'],image]\n",
    "            f_csv.writerow(row)\n",
    "        time.sleep(3)"
   ]
  },
  {
   "cell_type": "markdown",
   "metadata": {},
   "source": [
    "3. 从豆瓣电影 top 250 的 api 接口中，获取每一部电影海报的url，批量下载电影海报到本地"
   ]
  },
  {
   "cell_type": "code",
   "execution_count": 54,
   "metadata": {},
   "outputs": [],
   "source": [
    "with open('movies.csv') as f:\n",
    "    f_csv = csv.reader(f)\n",
    "    headers = next(f_csv)\n",
    "    for row in f_csv:\n",
    "        url = row[-1]\n",
    "        name = row[0]\n",
    "        image = requests.get(url).content\n",
    "        with open(f'Images/{name}.jpg','wb') as f:\n",
    "            f.write(image)\n",
    "        time.sleep(3)"
   ]
  },
  {
   "cell_type": "code",
   "execution_count": null,
   "metadata": {},
   "outputs": [],
   "source": []
  }
 ],
 "metadata": {
  "kernelspec": {
   "display_name": "Python 3",
   "language": "python",
   "name": "python3"
  },
  "language_info": {
   "codemirror_mode": {
    "name": "ipython",
    "version": 3
   },
   "file_extension": ".py",
   "mimetype": "text/x-python",
   "name": "python",
   "nbconvert_exporter": "python",
   "pygments_lexer": "ipython3",
   "version": "3.7.6"
  },
  "varInspector": {
   "cols": {
    "lenName": 16,
    "lenType": 16,
    "lenVar": 40
   },
   "kernels_config": {
    "python": {
     "delete_cmd_postfix": "",
     "delete_cmd_prefix": "del ",
     "library": "var_list.py",
     "varRefreshCmd": "print(var_dic_list())"
    },
    "r": {
     "delete_cmd_postfix": ") ",
     "delete_cmd_prefix": "rm(",
     "library": "var_list.r",
     "varRefreshCmd": "cat(var_dic_list()) "
    }
   },
   "types_to_exclude": [
    "module",
    "function",
    "builtin_function_or_method",
    "instance",
    "_Feature"
   ],
   "window_display": false
  }
 },
 "nbformat": 4,
 "nbformat_minor": 4
}
