{
 "cells": [
  {
   "cell_type": "code",
   "execution_count": 5,
   "metadata": {},
   "outputs": [],
   "source": [
    "import requests\n",
    "url = 'https://weibo.com/a/hot/realtime'\n",
    "headers = {'user-agent':'Mozilla/5.0 (Macintosh; Intel Mac OS X 10_14_6) AppleWebKit/537.36 (KHTML, like Gecko) Chrome/83.0.4103.116 Safari/537.36',\n",
    "          'cookie':'SINAGLOBAL=8902633718750.725.1588791625493; UOR=,,www.cjavapy.com; Ugrow-G0=6fd5dedc9d0f894fec342d051b79679e; login_sid_t=cb3363606f25c49821fc876bef1e2fbe; cross_origin_proto=SSL; TC-V5-G0=595b7637c272b28fccec3e9d529f251a; _s_tentry=-; Apache=6633255240000.209.1594531559182; ULV=1594531559684:8:1:1:6633255240000.209.1594531559182:1592939939329; WBStorage=42212210b087ca50|undefined; SUB=_2AkMoVi5mf8NxqwJRmPoVyW3kbIl3zgjEieKeCt-9JRMxHRl-yT92qhxTtRB6A9YAj63GMZ06wB8t73Ckn-_NGKwn3yN1; SUBP=0033WrSXqPxfM72-Ws9jqgMF55529P9D9WWfcrKVxT83SRWgcnKZCXmO'}\n",
    "r = requests.get(url, headers=headers)\n",
    "with open('weibo.html','w') as f:\n",
    "    f.write(r.text)"
   ]
  },
  {
   "cell_type": "code",
   "execution_count": null,
   "metadata": {},
   "outputs": [],
   "source": []
  }
 ],
 "metadata": {
  "kernelspec": {
   "display_name": "Python 3",
   "language": "python",
   "name": "python3"
  },
  "language_info": {
   "codemirror_mode": {
    "name": "ipython",
    "version": 3
   },
   "file_extension": ".py",
   "mimetype": "text/x-python",
   "name": "python",
   "nbconvert_exporter": "python",
   "pygments_lexer": "ipython3",
   "version": "3.7.6"
  },
  "varInspector": {
   "cols": {
    "lenName": 16,
    "lenType": 16,
    "lenVar": 40
   },
   "kernels_config": {
    "python": {
     "delete_cmd_postfix": "",
     "delete_cmd_prefix": "del ",
     "library": "var_list.py",
     "varRefreshCmd": "print(var_dic_list())"
    },
    "r": {
     "delete_cmd_postfix": ") ",
     "delete_cmd_prefix": "rm(",
     "library": "var_list.r",
     "varRefreshCmd": "cat(var_dic_list()) "
    }
   },
   "types_to_exclude": [
    "module",
    "function",
    "builtin_function_or_method",
    "instance",
    "_Feature"
   ],
   "window_display": false
  }
 },
 "nbformat": 4,
 "nbformat_minor": 4
}
