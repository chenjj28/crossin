{
 "cells": [
  {
   "cell_type": "code",
   "execution_count": 74,
   "metadata": {},
   "outputs": [
    {
     "name": "stdout",
     "output_type": "stream",
     "text": [
      "File saved.\n"
     ]
    }
   ],
   "source": [
    "import requests\n",
    "import csv\n",
    "url = 'https://www.zhihu.com/api/v3/feed/topstory/recommend?session_token=ba7a1d96dcf1266a8f03e2fc0b220b06&desktop=true&page_number=3&limit=6&action=down&after_id=11&ad_interval=-1'\n",
    "headers = {'cookie':'_zap=ca8109cb-8e0b-449c-999b-2b36ba1c8b66; d_c0=\"AJBU7sdMKxGPTgFT-6rWoSKGMUeGrGUH3d8=|1587743584\"; _ga=GA1.2.1042326555.1587743586; capsion_ticket=\"2|1:0|10:1592748855|14:capsion_ticket|44:NGU4ZWI0NTYyMjFiNDcyOWFjYTk3ZTEwMjU0OWZiMzc=|2e95fe9474017ccb08941193b1656d30424581eecc2fadc32428624394019977\"; z_c0=\"2|1:0|10:1592749024|4:z_c0|92:Mi4xM3l6eEFBQUFBQUFBa0ZUdXgwd3JFU2NBQUFDRUFsVk40UGdXWHdCWUJ4bEg1N2JMQld0MHJPckxmLWJlbFpqcDln|d65cdd0027bce0fe50f9be7774558b9ff5a03f6cdffc53b18cee90fe76e81877\"; tst=r; q_c1=53355bafe041448fb584313fdae945c0|1592782896000|1592782896000; _xsrf=9208f820-86ee-482b-a6f3-679f45ce3acf; _gid=GA1.2.697855135.1594611072; SESSIONID=jNem5OJTKn0sNmb6bKgE3fBKWdsCPHxXIlx5hNAEeca; JOID=VFgTAkylpAdPSYgvfKJDGwu4l6RtyexlJH3BYy_vzDE7AeRLTPpsCxdOiC599EcOXfSGexiPUKvEvQKWQlQ1raA=; osd=Ul4dB02joglKSI4pcqdCHQ22kqVrz-JgJXvHbSruyjc1BOVNSvRpChFIhit88kEAWPWAfRaKUa3CsweXRFI7qKE=; Hm_lvt_98beee57fd2ef70ccdd5ca52b9740c49=1594693988,1594739035,1594739209,1594740913; Hm_lpvt_98beee57fd2ef70ccdd5ca52b9740c49=1594740913; KLBRSID=031b5396d5ab406499e2ac6fe1bb1a43|1594740990|1594739030',\n",
    "          'user-agent':'Mozilla/5.0 (Macintosh; Intel Mac OS X 10_14_6) AppleWebKit/537.36 (KHTML, like Gecko) Chrome/83.0.4103.116 Safari/537.36'}\n",
    "try:\n",
    "    r = requests.get(url,headers=headers)\n",
    "except:\n",
    "    print('Request failed')\n",
    "\n",
    "content = r.json()['data']\n",
    "header = ['ID','Title','Vote','Thanks','Comment','Excerpt']\n",
    "with open('zhihu.csv','w') as f:\n",
    "    f_csv = csv.writer(f)\n",
    "    f_csv.writerow(header)\n",
    "    for item in content:\n",
    "        target = item['target']\n",
    "        if target['type'] == 'answer':\n",
    "            id = target.get('id')\n",
    "            author = target\n",
    "            title = target['question'].get('title')\n",
    "            vote = target.get('voteup_count')\n",
    "            thanks = target.get('thanks_count')\n",
    "            comment = target['comment_count']\n",
    "            excerpt = target.get('excerpt')\n",
    "            row = [id,title,vote,thanks,comment,excerpt]\n",
    "            f_csv.writerow(row)\n",
    "print('File saved.')"
   ]
  }
 ],
 "metadata": {
  "kernelspec": {
   "display_name": "Python 3",
   "language": "python",
   "name": "python3"
  },
  "language_info": {
   "codemirror_mode": {
    "name": "ipython",
    "version": 3
   },
   "file_extension": ".py",
   "mimetype": "text/x-python",
   "name": "python",
   "nbconvert_exporter": "python",
   "pygments_lexer": "ipython3",
   "version": "3.7.6"
  },
  "varInspector": {
   "cols": {
    "lenName": 16,
    "lenType": 16,
    "lenVar": 40
   },
   "kernels_config": {
    "python": {
     "delete_cmd_postfix": "",
     "delete_cmd_prefix": "del ",
     "library": "var_list.py",
     "varRefreshCmd": "print(var_dic_list())"
    },
    "r": {
     "delete_cmd_postfix": ") ",
     "delete_cmd_prefix": "rm(",
     "library": "var_list.r",
     "varRefreshCmd": "cat(var_dic_list()) "
    }
   },
   "types_to_exclude": [
    "module",
    "function",
    "builtin_function_or_method",
    "instance",
    "_Feature"
   ],
   "window_display": false
  }
 },
 "nbformat": 4,
 "nbformat_minor": 4
}
