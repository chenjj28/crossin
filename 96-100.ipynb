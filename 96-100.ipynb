{
  "nbformat": 4,
  "nbformat_minor": 0,
  "metadata": {
    "colab": {
      "name": "96-100.ipynb",
      "provenance": [],
      "collapsed_sections": [],
      "authorship_tag": "ABX9TyNW4PhziD9qwwzutqcNbago",
      "include_colab_link": true
    },
    "kernelspec": {
      "name": "python3",
      "display_name": "Python 3"
    }
  },
  "cells": [
    {
      "cell_type": "markdown",
      "metadata": {
        "id": "view-in-github",
        "colab_type": "text"
      },
      "source": [
        "<a href=\"https://colab.research.google.com/github/chenjj28/crossin/blob/master/96-100.ipynb\" target=\"_parent\"><img src=\"https://colab.research.google.com/assets/colab-badge.svg\" alt=\"Open In Colab\"/></a>"
      ]
    },
    {
      "cell_type": "markdown",
      "metadata": {
        "id": "F5r7FOE5CRuR",
        "colab_type": "text"
      },
      "source": [
        "### 96.等差素数数列\n",
        "类似7、37、67、97、107、137、167、197，这样由素数组成的等差数列叫做等差素数数列。编程找出100以内的等差素数数列。"
      ]
    },
    {
      "cell_type": "code",
      "metadata": {
        "id": "0D6sjv9wCLy3",
        "colab_type": "code",
        "outputId": "d649c055-ab1e-4513-a482-31c580a0519e",
        "colab": {
          "base_uri": "https://localhost:8080/",
          "height": 834
        }
      },
      "source": [
        "lst = []\n",
        "for j in range(2,100):\n",
        "    for k in range(2,j):\n",
        "        if j%k == 0:\n",
        "            break\n",
        "    else:\n",
        "        lst.append(j)\n",
        "\n",
        "for n in lst:\n",
        "    for d in range(1,100):\n",
        "        seq = [n]\n",
        "        for i in range(1,50):\n",
        "            if (n + i*d) < 100 and (n+i*d) in lst:\n",
        "                seq.append(n+i*d)\n",
        "            else:\n",
        "                break\n",
        "        if len(seq)>2:\n",
        "            print(seq)"
      ],
      "execution_count": 0,
      "outputs": [
        {
          "output_type": "stream",
          "text": [
            "[3, 5, 7]\n",
            "[3, 7, 11]\n",
            "[3, 11, 19]\n",
            "[3, 13, 23]\n",
            "[3, 17, 31]\n",
            "[3, 23, 43]\n",
            "[3, 31, 59]\n",
            "[3, 37, 71]\n",
            "[3, 41, 79]\n",
            "[3, 43, 83]\n",
            "[5, 11, 17, 23, 29]\n",
            "[5, 17, 29, 41, 53]\n",
            "[5, 23, 41, 59]\n",
            "[5, 29, 53]\n",
            "[5, 47, 89]\n",
            "[7, 13, 19]\n",
            "[7, 19, 31, 43]\n",
            "[7, 37, 67, 97]\n",
            "[7, 43, 79]\n",
            "[11, 17, 23, 29]\n",
            "[11, 29, 47]\n",
            "[11, 41, 71]\n",
            "[11, 47, 83]\n",
            "[13, 37, 61]\n",
            "[13, 43, 73]\n",
            "[17, 23, 29]\n",
            "[17, 29, 41, 53]\n",
            "[17, 53, 89]\n",
            "[19, 31, 43]\n",
            "[19, 43, 67]\n",
            "[23, 41, 59]\n",
            "[23, 47, 71]\n",
            "[23, 53, 83]\n",
            "[29, 41, 53]\n",
            "[29, 59, 89]\n",
            "[31, 37, 43]\n",
            "[37, 67, 97]\n",
            "[41, 47, 53, 59]\n",
            "[43, 61, 79, 97]\n",
            "[47, 53, 59]\n",
            "[47, 59, 71, 83]\n",
            "[53, 71, 89]\n",
            "[59, 71, 83]\n",
            "[61, 67, 73, 79]\n",
            "[61, 79, 97]\n",
            "[67, 73, 79]\n"
          ],
          "name": "stdout"
        }
      ]
    },
    {
      "cell_type": "markdown",
      "metadata": {
        "id": "j1795Z__gIuY",
        "colab_type": "text"
      },
      "source": [
        "### 97.赛场统分\n",
        "在编程竞赛中，有10个评委为参赛的选手打分，分数为0 ~ 100分。选手最后得分为：去掉一个最高分和一个最低分后其余8个分数的平均值。请编写一个程序实现。"
      ]
    },
    {
      "cell_type": "code",
      "metadata": {
        "id": "rl3rOEXZgIZ3",
        "colab_type": "code",
        "outputId": "822224b0-a5e3-4aa6-f2b2-57bdf411b3c0",
        "colab": {
          "base_uri": "https://localhost:8080/",
          "height": 34
        }
      },
      "source": [
        "import random\n",
        "lst = []\n",
        "while len(lst)<10:\n",
        "    n = random.randint(0,100)\n",
        "    lst.append(n)\n",
        "lst.sort()\n",
        "lst.pop(0)\n",
        "lst.pop(-1)\n",
        "a = sum(lst)/len(lst)\n",
        "print(a)"
      ],
      "execution_count": 0,
      "outputs": [
        {
          "output_type": "stream",
          "text": [
            "50.75\n"
          ],
          "name": "stdout"
        }
      ]
    },
    {
      "cell_type": "markdown",
      "metadata": {
        "id": "9CcW1K18yaw2",
        "colab_type": "text"
      },
      "source": [
        "### 98.肇事车辆\n",
        "有一个卡车司机肇事后想逃跑，但是被三个人看见了其车牌号，但是都没看全，甲说：车牌的前两位是一样的；乙说：车牌的后两位一样的，但与前两位不一样；丙说：车牌是一个数字的平方。请编写一个程序计算该车牌号是多少（车牌号4位数）。"
      ]
    },
    {
      "cell_type": "code",
      "metadata": {
        "id": "nkw8OW2PyioV",
        "colab_type": "code",
        "outputId": "0ddfc2ef-5f5e-4b87-b1c6-e044da0a7de3",
        "colab": {
          "base_uri": "https://localhost:8080/",
          "height": 34
        }
      },
      "source": [
        "for i in range(32,100):\n",
        "    n = str(i*i)\n",
        "    if n[0]==n[1] and n[2]==n[3]:\n",
        "        print(n)"
      ],
      "execution_count": 0,
      "outputs": [
        {
          "output_type": "stream",
          "text": [
            "7744\n"
          ],
          "name": "stdout"
        }
      ]
    },
    {
      "cell_type": "markdown",
      "metadata": {
        "id": "Ux1i7HkDY2A2",
        "colab_type": "text"
      },
      "source": [
        "### 99.分糖果\n",
        "10个小孩围城一圈分糖果，老师分给第1个小孩10块，第2个小孩2块，第3个小孩8块，第4个小孩22块，第5个小孩16块，第6个小孩4块，第7个小孩10块，第8个小孩6块，第9个小孩14块，第10个小孩20块。然后所有的小孩同时将手中的糖分一半给右边的小孩；糖块数为奇数的人可向老师要一块。问经过这样几次后大家手中的糖的块数一样多？ 每人各有多少块糖？"
      ]
    },
    {
      "cell_type": "code",
      "metadata": {
        "id": "CkWZFFI_Y953",
        "colab_type": "code",
        "outputId": "45aafab7-ef2d-480c-b3da-39f57fd068f5",
        "colab": {
          "base_uri": "https://localhost:8080/",
          "height": 34
        }
      },
      "source": [
        "lst = [10,2,8,22,16,4,10,6,14,20]\n",
        "count = 0\n",
        "while len(set(lst)) != 1:\n",
        "    lst_new = []\n",
        "    count += 1\n",
        "    for i in range(10):\n",
        "        n = lst[i]//2+lst[i-1]//2\n",
        "        if n%2 !=0:\n",
        "            n=n+1\n",
        "        lst_new.append(n)\n",
        "    lst=lst_new.copy()\n",
        "    \n",
        "print(f'After {count} times, everyone will have the same candy of {lst[0]}.')\n"
      ],
      "execution_count": 0,
      "outputs": [
        {
          "output_type": "stream",
          "text": [
            "After 16 times, everyone will have the same candy of 18.\n"
          ],
          "name": "stdout"
        }
      ]
    },
    {
      "cell_type": "markdown",
      "metadata": {
        "id": "LwBewiHip91M",
        "colab_type": "text"
      },
      "source": [
        "### 100.百鸡百钱\n",
        "我国古代数学家张丘建在《张丘建算经》一书中提出了“百鸡问题”：鸡翁一，值钱五，鸡母一，值钱三，鸡雏三，值钱一。百钱买百鸡，问鸡翁、鸡母、鸡雏各几何？这个问题的大致意思是这样的：公鸡5文钱一只，母鸡3文钱一只，小鸡3只一文钱。如果用100文钱买100只鸡，那么公鸡、母鸡和小鸡各应该买多少只呢？"
      ]
    },
    {
      "cell_type": "code",
      "metadata": {
        "id": "j_gIDvq7bwn6",
        "colab_type": "code",
        "outputId": "cc8f7fd0-db3b-44ce-875c-bc539495a8f6",
        "colab": {
          "base_uri": "https://localhost:8080/",
          "height": 87
        }
      },
      "source": [
        "for i in range(20):\n",
        "    for j in range(33):\n",
        "        for k in range(33):\n",
        "            if i+j+3*k == 100 and 5*i+3*j+k == 100:\n",
        "                print(f'cock:{i},hen:{j},chicken:{3*k}')"
      ],
      "execution_count": 2,
      "outputs": [
        {
          "output_type": "stream",
          "text": [
            "cock:0,hen:25,chicken:75\n",
            "cock:4,hen:18,chicken:78\n",
            "cock:8,hen:11,chicken:81\n",
            "cock:12,hen:4,chicken:84\n"
          ],
          "name": "stdout"
        }
      ]
    }
  ]
}