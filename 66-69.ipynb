{
  "nbformat": 4,
  "nbformat_minor": 0,
  "metadata": {
    "colab": {
      "name": "66-69.ipynb",
      "provenance": [],
      "collapsed_sections": [],
      "include_colab_link": true
    },
    "kernelspec": {
      "name": "python3",
      "display_name": "Python 3"
    }
  },
  "cells": [
    {
      "cell_type": "markdown",
      "metadata": {
        "id": "view-in-github",
        "colab_type": "text"
      },
      "source": [
        "<a href=\"https://colab.research.google.com/github/chenjj28/crossin/blob/master/66-69.ipynb\" target=\"_parent\"><img src=\"https://colab.research.google.com/assets/colab-badge.svg\" alt=\"Open In Colab\"/></a>"
      ]
    },
    {
      "cell_type": "markdown",
      "metadata": {
        "id": "KCGQwbbmIKDK",
        "colab_type": "text"
      },
      "source": [
        "### 66.递归问题1\n",
        "利用递归方法求5!。"
      ]
    },
    {
      "cell_type": "code",
      "metadata": {
        "id": "VyJIb_bxzwnT",
        "colab_type": "code",
        "outputId": "25829e1b-1b94-4eef-f643-f82d854622e3",
        "colab": {
          "base_uri": "https://localhost:8080/",
          "height": 34
        }
      },
      "source": [
        "def factorial(n):\n",
        "    if n == 1:\n",
        "        return n\n",
        "    return n*fat(n-1)\n",
        "print(factorial(5))"
      ],
      "execution_count": 0,
      "outputs": [
        {
          "output_type": "stream",
          "text": [
            "120\n"
          ],
          "name": "stdout"
        }
      ]
    },
    {
      "cell_type": "markdown",
      "metadata": {
        "id": "0-4lk1YgIvjG",
        "colab_type": "text"
      },
      "source": [
        "### 67.递归问题2\n",
        "利用递归函数调用方式，将所输入的5个字符，以相反顺序打印出来。"
      ]
    },
    {
      "cell_type": "code",
      "metadata": {
        "id": "fxXumgzgII1o",
        "colab_type": "code",
        "outputId": "30c34815-6490-4a3c-94c8-f6eb2d7b8c64",
        "colab": {
          "base_uri": "https://localhost:8080/",
          "height": 51
        }
      },
      "source": [
        "def text_rev(text,n):\n",
        "    if n == 0:\n",
        "        return\n",
        "    print (text[n-1], end = '')\n",
        "    text_rev(text,n-1)\n",
        "a = input('Please enter the characters: ')\n",
        "text_rev(a,len(a))"
      ],
      "execution_count": 0,
      "outputs": [
        {
          "output_type": "stream",
          "text": [
            "Please enter the characters: abcde\n",
            "edcba"
          ],
          "name": "stdout"
        }
      ]
    },
    {
      "cell_type": "markdown",
      "metadata": {
        "id": "cfehtHevhO0H",
        "colab_type": "text"
      },
      "source": [
        "### 68.岁数问题\n",
        "【问题】有5个人坐在一起，问第五个人多少岁？他说比第4个人大2岁。问第4个人岁数，他说比第3个人大2岁。问第三个人，又说比第2人大两岁。问第2个人，说比第一个人大两岁。最后问第一个人，他说是10岁。请问第五个人多大？<br>\n",
        "【分析】利用递归的方法，递归分为回推和递推两个阶段。要想知道第五个人岁数，需知道第四人的岁数，依次类推，推到第一人（10岁），再往回推。"
      ]
    },
    {
      "cell_type": "code",
      "metadata": {
        "id": "Q0olHTVlhWHh",
        "colab_type": "code",
        "outputId": "3c8791bd-42fe-430d-a4eb-c67230fe8047",
        "colab": {
          "base_uri": "https://localhost:8080/",
          "height": 34
        }
      },
      "source": [
        "def age(n):\n",
        "    if n == 1:\n",
        "        return 10\n",
        "    return age(n-1)+2\n",
        "age(5)"
      ],
      "execution_count": 0,
      "outputs": [
        {
          "output_type": "execute_result",
          "data": {
            "text/plain": [
              "18"
            ]
          },
          "metadata": {
            "tags": []
          },
          "execution_count": 25
        }
      ]
    },
    {
      "cell_type": "markdown",
      "metadata": {
        "id": "WMIZA5yKjDa2",
        "colab_type": "text"
      },
      "source": [
        "### 69.回文数判断\n",
        "一个5位数，判断它是不是回文数。即12321是回文数，个位与万位相同，十位与千位相同。"
      ]
    },
    {
      "cell_type": "code",
      "metadata": {
        "id": "4p4NmoDyjYHK",
        "colab_type": "code",
        "outputId": "844bdaa4-5be3-413e-85d3-009b6f1cdb58",
        "colab": {
          "base_uri": "https://localhost:8080/",
          "height": 51
        }
      },
      "source": [
        "num = input('Please enter the 5-dig number: ')\n",
        "if num == num[::-1]:\n",
        "    print('这是回文数')\n",
        "else:\n",
        "    print('这不是回文数')"
      ],
      "execution_count": 0,
      "outputs": [
        {
          "output_type": "stream",
          "text": [
            "Please enter the 5-dig number: 12321\n",
            "这是回文数\n"
          ],
          "name": "stdout"
        }
      ]
    }
  ]
}